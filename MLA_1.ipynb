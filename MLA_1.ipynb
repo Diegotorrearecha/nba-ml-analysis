{
  "nbformat": 4,
  "nbformat_minor": 0,
  "metadata": {
    "colab": {
      "provenance": []
    },
    "kernelspec": {
      "name": "python3",
      "display_name": "Python 3"
    },
    "language_info": {
      "name": "python"
    }
  },
  "cells": [
    {
      "cell_type": "markdown",
      "source": [
        "# 🏀 Player Position Classification using Machine Learning\n",
        "\n",
        "## Introduction\n",
        "\n",
        "In this project, we apply machine learning techniques to classify basketball players into their respective positions — Point Guard (PG), Shooting Guard (SG), Small Forward (SF), Power Forward (PF), and Center (C) — based on their performance statistics.\n",
        "\n",
        "We work with two datasets: season statistics and player information. After cleaning and merging the data, we build and evaluate multiple classification models (Random Forest, Gradient Boosting, AdaBoost, and XGBoost) to compare their performance.\n",
        "\n",
        "The objective is to perform a **multi-class classification task** and analyze the most relevant features for each position, ensuring a fair and balanced approach throughout the process.\n"
      ],
      "metadata": {
        "id": "ALH99RVZwNeE"
      }
    },
    {
      "cell_type": "markdown",
      "source": [
        "## 🔗 Data Access: Importing Files from Google Drive\n",
        "\n",
        "To ensure reproducibility and remote access, we load both datasets directly from Google Drive using the PyDrive library. This step includes:\n",
        "\n",
        "- Installing and importing the required PyDrive modules\n",
        "- Authenticating access to the user's Google Drive account\n",
        "- Downloading the `seasons_stats.csv` and `player_data.csv` files using their unique file IDs\n",
        "\n",
        "These files contain the core player statistics and player metadata needed for the analysis and classification tasks.\n"
      ],
      "metadata": {
        "id": "o305asl4wYiU"
      }
    },
    {
      "cell_type": "code",
      "source": [
        "!pip install -q PyDrive\n",
        "from pydrive.auth import GoogleAuth\n",
        "from pydrive.drive import GoogleDrive\n",
        "from google.colab import auth\n",
        "from oauth2client.client import GoogleCredentials\n",
        "\n",
        "auth.authenticate_user()\n",
        "gauth = GoogleAuth()\n",
        "gauth.credentials = GoogleCredentials.get_application_default()\n",
        "drive = GoogleDrive(gauth)\n",
        "\n",
        "file_id_seasons = \"1Oki20rTt2MCo9YkPY4J_czbbpFbPNMFb\"\n",
        "downloaded_seasons = drive.CreateFile({'id': file_id_seasons})\n",
        "downloaded_seasons.GetContentFile('seasons_stats.csv')\n",
        "\n",
        "file_id_players = \"1IZX_F2sbij5V4cALgYsuq7cEg_wSNnS2\"\n",
        "downloaded_players = drive.CreateFile({'id': file_id_players})\n",
        "downloaded_players.GetContentFile('player_data.csv')\n",
        "\n",
        "\n"
      ],
      "metadata": {
        "id": "HwVY5hqYpj42"
      },
      "execution_count": 25,
      "outputs": []
    },
    {
      "cell_type": "markdown",
      "source": [
        "## 📥 Loading the Datasets\n",
        "\n",
        "After downloading the files from Google Drive, we load them into pandas DataFrames:\n",
        "\n",
        "- `player_data.csv`: Contains personal and general information about each player (e.g., position, height, weight, college).\n",
        "- `seasons_stats.csv`: Contains performance statistics for each player per season.\n",
        "\n",
        "We ensure the correct encoding is applied (`utf-8` and `latin1`) to avoid character-related errors during loading.\n",
        "\n",
        "This step is essential to verify that the datasets were successfully loaded and to inspect their structure.\n"
      ],
      "metadata": {
        "id": "-FMia1RqwjzY"
      }
    },
    {
      "cell_type": "code",
      "execution_count": 26,
      "metadata": {
        "colab": {
          "base_uri": "https://localhost:8080/"
        },
        "id": "GV0spazv-e9b",
        "outputId": "e8e2d8b5-a19b-49ed-ca0f-66de959037b4"
      },
      "outputs": [
        {
          "output_type": "stream",
          "name": "stdout",
          "text": [
            "['Player', 'From', 'To', 'Pos', 'Ht', 'Wt', 'Birth Date', 'Colleges']\n"
          ]
        }
      ],
      "source": [
        "import pandas as pd\n",
        "from sklearn.model_selection import train_test_split\n",
        "from sklearn.preprocessing import LabelEncoder, StandardScaler\n",
        "\n",
        "players = pd.read_csv('player_data.csv', encoding='utf-8')\n",
        "seasons = pd.read_csv('seasons_stats.csv', encoding='latin1')\n",
        "\n",
        "print(players.columns.tolist())\n"
      ]
    },
    {
      "cell_type": "markdown",
      "source": [
        "## 🔄 Merging and Preparing the Dataset\n",
        "\n",
        "We prepare the dataset by merging relevant columns from `player_data` into `seasons_stats`, using the `Player` column as a common key.\n",
        "\n",
        "Steps:\n",
        "- Selected only relevant columns from `player_data` (`Player`, `Pos`, `Ht`, `Wt`) and renamed them for clarity (`Ht` → `Height`, `Wt` → `Weight`).\n",
        "- Merged this subset with the `seasons_stats` DataFrame using a left join on the `Player` column.\n",
        "- Verified the result by checking the shape and a sample of the merged dataset.\n",
        "- Cleaned up redundant columns (`Pos_y`) and finalized the correct position field as `Pos`.\n",
        "\n",
        "This step ensures that all relevant player metadata is integrated with season statistics for subsequent analysis.\n"
      ],
      "metadata": {
        "id": "kAd2YAbQw2x-"
      }
    },
    {
      "cell_type": "code",
      "source": [
        "pl = players[['Player', 'Pos', 'Ht', 'Wt']].rename(\n",
        "    columns={'Ht':'Height', 'Wt':'Weight'}\n",
        ")\n",
        "\n",
        "df = seasons.merge(\n",
        "    pl,\n",
        "    on='Player',\n",
        "    how='left'\n",
        ")\n",
        "\n",
        "print(df.shape)\n",
        "print(df[['Player','Pos_x','Pos_y','Height','Weight']].head())\n",
        "\n",
        "df = df.rename(columns={'Pos_x':'Pos'}).drop(columns=['Pos_y'])\n"
      ],
      "metadata": {
        "colab": {
          "base_uri": "https://localhost:8080/"
        },
        "id": "ZQZg8zop_t_d",
        "outputId": "12e2789d-303f-4f75-87b4-dc8904d5fb86"
      },
      "execution_count": 27,
      "outputs": [
        {
          "output_type": "stream",
          "name": "stdout",
          "text": [
            "(29179, 54)\n",
            "            Player Pos_x Pos_y Height  Weight\n",
            "0  Curly Armstrong   G-F   G-F   5-11   170.0\n",
            "1     Cliff Barker    SG     G    6-2   185.0\n",
            "2    Leo Barnhorst    SF   F-G    6-4   190.0\n",
            "3       Ed Bartels     F     F    6-5   195.0\n",
            "4       Ed Bartels     F     F    6-5   195.0\n"
          ]
        }
      ]
    },
    {
      "cell_type": "markdown",
      "source": [
        "##  Merging and Cleaning Duplicates\n",
        "\n",
        "Before merging the datasets, we clean the `player_data` DataFrame to ensure each player appears only once. Specifically:\n",
        "\n",
        "- We select relevant columns (`Player`, `Pos`, `Ht`, `Wt`) and remove duplicates based on the `Player` field.\n",
        "- We rename the height and weight columns to standard names (`Height`, `Weight`) for clarity.\n",
        "- We perform a left merge with the `seasons_stats` DataFrame using the `Player` column as the key.\n",
        "\n",
        "After merging, we verify:\n",
        "- That the number of rows in `df` remains consistent with `seasons_stats`, ensuring no rows were lost.\n",
        "- That some values for `Height` and `Weight` are missing (`NaN`), which we account for in further preprocessing.\n",
        "\n",
        "This step ensures a consistent and clean base for building the classification model.\n"
      ],
      "metadata": {
        "id": "0imVvq_VxGXt"
      }
    },
    {
      "cell_type": "code",
      "source": [
        "pl = (\n",
        "    players[['Player','Pos','Ht','Wt']]\n",
        "    .drop_duplicates(subset=['Player'])     # <-- eliminamos filas repetidas de Player\n",
        "    .rename(columns={'Ht':'Height','Wt':'Weight'})\n",
        ")\n",
        "\n",
        "df = seasons.merge(\n",
        "    pl,\n",
        "    on='Player',\n",
        "    how='left'\n",
        ")\n",
        "\n",
        "print(\"Rows en seasons_stats:\", seasons.shape[0])\n",
        "print(\"Rows en df después del merge:\", df.shape[0])\n",
        "\n",
        "\n",
        "print(df[['Height','Weight']].isna().sum())\n",
        "\n"
      ],
      "metadata": {
        "colab": {
          "base_uri": "https://localhost:8080/"
        },
        "id": "CVwY02_5BBN5",
        "outputId": "efc2d8ea-c1a8-4299-b881-6e238b3623ae"
      },
      "execution_count": 30,
      "outputs": [
        {
          "output_type": "stream",
          "name": "stdout",
          "text": [
            "Rows en seasons_stats: 28057\n",
            "Rows en df después del merge: 28057\n",
            "Height    2209\n",
            "Weight    2212\n",
            "dtype: int64\n"
          ]
        }
      ]
    },
    {
      "cell_type": "markdown",
      "source": [
        "## Data Cleaning: Height and Weight Columns\n",
        "\n",
        "To ensure our dataset is clean and ready for modeling, several important steps were taken regarding the `Height` and `Weight` variables:\n",
        "\n",
        "### 1. Height Conversion\n",
        "Some height values are recorded in the format `\"feet-inches\"` (e.g. `\"6-5\"`). To convert them into a single numeric value (in inches), a helper function `height_to_inches` was applied to transform strings like `\"6-5\"` into `77`.\n",
        "\n",
        "Additionally, we used `pd.to_numeric` with the parameter `errors='coerce'` to ensure all height values are stored as numeric types, converting any invalid entries to `NaN`.\n",
        "\n",
        "### 2. Column Name Consistency\n",
        "We made sure that the column `Pos` exists before imputing missing values. If `Pos` was named differently after merging (`Pos_x` or `Pos_y`), we renamed it back to `Pos`.\n",
        "\n",
        "### 3. Removing Useless Columns\n",
        "Redundant columns like `Pos_x` and `Pos_y` (if still present) were dropped to prevent duplication.\n",
        "\n",
        "### 4. Imputing Missing Values by Position\n",
        "Missing values in `Height` and `Weight` were filled using the median of each position group (e.g., centers, guards). This way, the imputation is more contextually accurate based on typical physical characteristics of each position.\n",
        "\n",
        "```python\n",
        "df['Height'] = df.groupby('Pos')['Height'].transform(lambda x: x.fillna(x.median()))\n",
        "df['Weight'] = df.groupby('Pos')['Weight'].transform(lambda x: x.fillna(x.median()))\n"
      ],
      "metadata": {
        "id": "ZFQWBEgKxrq8"
      }
    },
    {
      "cell_type": "code",
      "source": [
        "df = df.rename(columns={'Pos_x':'Pos'}).drop(columns=['Pos_y'])\n",
        "\n",
        "print('Columnas de df:', df.columns.tolist())\n"
      ],
      "metadata": {
        "colab": {
          "base_uri": "https://localhost:8080/"
        },
        "id": "rWJySdvMYV86",
        "outputId": "6a5f02e4-be15-4746-b6ff-63e94476be5e"
      },
      "execution_count": 31,
      "outputs": [
        {
          "output_type": "stream",
          "name": "stdout",
          "text": [
            "Columnas de df: ['Unnamed: 0', 'Year', 'Player', 'Pos', 'Age', 'Tm', 'G', 'GS', 'MP', 'FG', 'FGA', 'FG%', '3P', '3PA', '3P%', '2P', '2PA', '2P%', 'eFG%', 'FT', 'FTA', 'FT%', 'ORB', 'DRB', 'TRB', 'AST', 'STL', 'BLK', 'TOV', 'PF', 'PTS', 'PER', 'TS%', '3PAr', 'FTr', 'ORB%', 'DRB%', 'TRB%', 'AST%', 'STL%', 'BLK%', 'TOV%', 'USG%', 'OWS', 'DWS', 'WS', 'WS/48', 'OBPM', 'DBPM', 'BPM', 'VORP', 'Height', 'Weight']\n"
          ]
        }
      ]
    },
    {
      "cell_type": "code",
      "source": [
        "def height_to_inches(h):\n",
        "    if isinstance(h, str) and '-' in h:\n",
        "        feet, inches = h.split('-')\n",
        "        return int(feet) * 12 + int(inches)\n",
        "    return h  # ya es numérico\n",
        "\n",
        "df['Height'] = df['Height'].apply(height_to_inches)\n",
        "\n",
        "df['Height'] = pd.to_numeric(df['Height'], errors='coerce')\n"
      ],
      "metadata": {
        "id": "NHpqqKCNYWr6"
      },
      "execution_count": 32,
      "outputs": []
    },
    {
      "cell_type": "code",
      "source": [
        "if 'Pos' not in df.columns:\n",
        "    if 'Pos_x' in df.columns:\n",
        "        df.rename(columns={'Pos_x': 'Pos'}, inplace=True)\n",
        "    elif 'Pos_y' in df.columns:\n",
        "        df.rename(columns={'Pos_y': 'Pos'}, inplace=True)\n",
        "\n",
        "for col in ['Pos_x', 'Pos_y']:\n",
        "    if col in df.columns and col != 'Pos':\n",
        "        df.drop(columns=[col], inplace=True)\n",
        "\n",
        "df['Height'] = df.groupby('Pos')['Height'].transform(lambda x: x.fillna(x.median()))\n",
        "df['Weight'] = df.groupby('Pos')['Weight'].transform(lambda x: x.fillna(x.median()))\n",
        "\n",
        "print(df[['Height', 'Weight']].isna().sum())\n"
      ],
      "metadata": {
        "colab": {
          "base_uri": "https://localhost:8080/"
        },
        "id": "jE4TKkgtXz56",
        "outputId": "7aa4a0c7-bfb6-4404-a359-5995c46c3543"
      },
      "execution_count": 33,
      "outputs": [
        {
          "output_type": "stream",
          "name": "stdout",
          "text": [
            "Height    0\n",
            "Weight    0\n",
            "dtype: int64\n"
          ]
        }
      ]
    },
    {
      "cell_type": "markdown",
      "source": [
        "## Data Cleaning and Preprocessing\n",
        "\n",
        "This block performs essential data preparation steps before model training:\n",
        "\n",
        "1. **Remove duplicate rows**: Ensures data quality by removing exact duplicate entries.\n",
        "2. **Encode target variable**: The categorical variable `Pos` (player position) is encoded into numerical labels using `LabelEncoder`, creating the `Pos_label` column.\n",
        "3. **Feature scaling**: All numerical columns are standardized using `StandardScaler` to have mean 0 and standard deviation 1. This is especially useful for algorithms sensitive to feature scale.\n",
        "4. **Output**: The shape of the DataFrame and the label mapping between position names and their corresponding integer codes are printed for reference.\n",
        "\n",
        "---\n",
        "\n",
        "## Position Simplification and Reprocessing\n",
        "\n",
        "This section refines the `Pos` (Position) variable to reduce complexity:\n",
        "\n",
        "1. **Simplify composite positions**: For players with multiple roles (e.g., `\"SG-SF\"`), only the first listed position is retained (e.g., `\"SG\"`).\n",
        "2. **Repeat data cleaning steps**: After simplification, duplicates are removed again, positions are re-encoded, and numerical features are re-scaled.\n",
        "3. **Output**: The updated DataFrame shape and the simplified label mapping are displayed.\n",
        "\n",
        "> This simplification helps reduce the number of target classes, which may improve model performance and reduce confusion between similar positions.\n"
      ],
      "metadata": {
        "id": "JK5whaWKzpRf"
      }
    },
    {
      "cell_type": "code",
      "source": [
        "df = df.drop_duplicates()\n",
        "\n",
        "from sklearn.preprocessing import LabelEncoder, StandardScaler\n",
        "\n",
        "le = LabelEncoder()\n",
        "df['Pos_label'] = le.fit_transform(df['Pos'])\n",
        "\n",
        "num_cols = df.select_dtypes(include=['int64', 'float64']).columns.drop('Pos_label')\n",
        "scaler = StandardScaler()\n",
        "df[num_cols] = scaler.fit_transform(df[num_cols])\n",
        "\n",
        "print(\"Filas tras eliminar duplicados:\", df.shape[0])\n",
        "print(\"Dimensiones finales del DataFrame:\", df.shape)\n",
        "print(\"Mapeo Pos → Etiqueta:\", dict(zip(le.classes_, le.transform(le.classes_))))\n"
      ],
      "metadata": {
        "colab": {
          "base_uri": "https://localhost:8080/"
        },
        "id": "t6yiJehZatKd",
        "outputId": "f6aa9920-548b-4a4c-eb3b-614da8183498"
      },
      "execution_count": 34,
      "outputs": [
        {
          "output_type": "stream",
          "name": "stdout",
          "text": [
            "Filas tras eliminar duplicados: 28057\n",
            "Dimensiones finales del DataFrame: (28057, 54)\n",
            "Mapeo Pos → Etiqueta: {'C': np.int64(0), 'C-F': np.int64(1), 'C-PF': np.int64(2), 'C-SF': np.int64(3), 'F': np.int64(4), 'F-C': np.int64(5), 'F-G': np.int64(6), 'G': np.int64(7), 'G-F': np.int64(8), 'PF': np.int64(9), 'PF-C': np.int64(10), 'PF-SF': np.int64(11), 'PG': np.int64(12), 'PG-SF': np.int64(13), 'PG-SG': np.int64(14), 'SF': np.int64(15), 'SF-C': np.int64(16), 'SF-PF': np.int64(17), 'SF-PG': np.int64(18), 'SF-SG': np.int64(19), 'SG': np.int64(20), 'SG-PF': np.int64(21), 'SG-PG': np.int64(22), 'SG-SF': np.int64(23)}\n"
          ]
        }
      ]
    },
    {
      "cell_type": "code",
      "source": [
        "df['Pos'] = df['Pos'].str.split('-').str[0]\n",
        "\n",
        "df = df.drop_duplicates()\n",
        "\n",
        "from sklearn.preprocessing import LabelEncoder, StandardScaler\n",
        "\n",
        "le = LabelEncoder()\n",
        "df['Pos_label'] = le.fit_transform(df['Pos'])\n",
        "\n",
        "num_cols = df.select_dtypes(include=['int64','float64']).columns.drop('Pos_label')\n",
        "scaler = StandardScaler()\n",
        "df[num_cols] = scaler.fit_transform(df[num_cols])\n",
        "\n",
        "print(\"Dimensiones tras simplificar y codificar:\", df.shape)\n",
        "print(\"Mapeo Pos → Etiqueta:\", dict(zip(le.classes_, le.transform(le.classes_))))\n"
      ],
      "metadata": {
        "colab": {
          "base_uri": "https://localhost:8080/"
        },
        "id": "YGmJ5BCTbPzq",
        "outputId": "2788a39b-4616-4e42-df21-478ab53125ff"
      },
      "execution_count": 35,
      "outputs": [
        {
          "output_type": "stream",
          "name": "stdout",
          "text": [
            "Dimensiones tras simplificar y codificar: (28057, 54)\n",
            "Mapeo Pos → Etiqueta: {'C': np.int64(0), 'F': np.int64(1), 'G': np.int64(2), 'PF': np.int64(3), 'PG': np.int64(4), 'SF': np.int64(5), 'SG': np.int64(6)}\n"
          ]
        }
      ]
    },
    {
      "cell_type": "markdown",
      "source": [
        "##  Position Remapping\n",
        "\n",
        "- Generalizes some hybrid positions:\n",
        "  - `'F'` → `'SF'` (Small Forward)\n",
        "  - `'G'` → `'SG'` (Shooting Guard)\n",
        "\n",
        "- Removes duplicates again (in case remapping created any).\n",
        "- Re-encodes `Pos` using `LabelEncoder` and scales numeric features with `StandardScaler`.\n",
        "- Outputs the new shape and label mapping for verification.\n",
        "\n",
        "---\n",
        "\n",
        "##  Class Distribution Plot\n",
        "\n",
        "- Barplot shows the number of players per position.\n",
        "- Helps visualize class imbalance, which is important for training fair models.\n"
      ],
      "metadata": {
        "id": "5fif742a0OEv"
      }
    },
    {
      "cell_type": "code",
      "source": [
        "df['Pos'] = df['Pos'].replace({\n",
        "    'F': 'SF',   # Mapea genérico Forward a Alero\n",
        "    'G': 'SG'    # Mapea genérico Guard a Escolta\n",
        "})\n",
        "\n",
        "df = df.drop_duplicates()\n",
        "\n",
        "from sklearn.preprocessing import LabelEncoder, StandardScaler\n",
        "\n",
        "le = LabelEncoder()\n",
        "df['Pos_label'] = le.fit_transform(df['Pos'])\n",
        "\n",
        "num_cols = df.select_dtypes(include=['int64','float64']).columns.drop('Pos_label')\n",
        "scaler = StandardScaler()\n",
        "df[num_cols] = scaler.fit_transform(df[num_cols])\n",
        "\n",
        "print(\"Dimensiones tras remapear y codificar:\", df.shape)\n",
        "print(\"Nuevo mapeo Pos → Etiqueta:\", dict(zip(le.classes_, le.transform(le.classes_))))\n"
      ],
      "metadata": {
        "colab": {
          "base_uri": "https://localhost:8080/"
        },
        "id": "V-i9XsK_bvGI",
        "outputId": "f62a3404-01c8-41dd-dc7d-7621a3abb433"
      },
      "execution_count": 36,
      "outputs": [
        {
          "output_type": "stream",
          "name": "stdout",
          "text": [
            "Dimensiones tras remapear y codificar: (28057, 54)\n",
            "Nuevo mapeo Pos → Etiqueta: {'C': np.int64(0), 'PF': np.int64(1), 'PG': np.int64(2), 'SF': np.int64(3), 'SG': np.int64(4)}\n"
          ]
        }
      ]
    },
    {
      "cell_type": "code",
      "source": [
        "import matplotlib.pyplot as plt\n",
        "import seaborn as sns\n",
        "\n",
        "plt.figure(figsize=(8, 5))\n",
        "sns.countplot(data=df, x='Pos', order=df['Pos'].value_counts().index, palette='Set2')\n",
        "plt.title(\"Distribución de clases (Posiciones de jugadores)\")\n",
        "plt.xlabel(\"Posición\")\n",
        "plt.ylabel(\"Número de jugadores\")\n",
        "plt.grid(axis='y', linestyle='--', alpha=0.7)\n",
        "plt.tight_layout()\n",
        "plt.show()\n"
      ],
      "metadata": {
        "colab": {
          "base_uri": "https://localhost:8080/",
          "height": 594
        },
        "id": "Zgfm7jGvIXyF",
        "outputId": "759ce3aa-4749-454a-d7a0-bc8a90b8a81c"
      },
      "execution_count": 37,
      "outputs": [
        {
          "output_type": "stream",
          "name": "stderr",
          "text": [
            "<ipython-input-37-67b8b41d1553>:5: FutureWarning: \n",
            "\n",
            "Passing `palette` without assigning `hue` is deprecated and will be removed in v0.14.0. Assign the `x` variable to `hue` and set `legend=False` for the same effect.\n",
            "\n",
            "  sns.countplot(data=df, x='Pos', order=df['Pos'].value_counts().index, palette='Set2')\n"
          ]
        },
        {
          "output_type": "display_data",
          "data": {
            "text/plain": [
              "<Figure size 800x500 with 1 Axes>"
            ],
            "image/png": "[encoded data removed]"
          },
          "metadata": {}
        }
      ]
    },
    {
      "cell_type": "markdown",
      "source": [
        "## Model Training and Evaluation (Random Forest)\n",
        "\n",
        "- **Feature selection**: Only numerical features are used for training.\n",
        "- **Missing values**: Filled using column-wise mean with `SimpleImputer`.\n",
        "- **Train-test split**: Performed with stratification to preserve class distribution.\n",
        "- **Model**: A `RandomForestClassifier` is trained and evaluated.\n",
        "- **Metrics**:\n",
        "  - Accuracy is printed.\n",
        "  - A classification report shows precision, recall, and F1-score per class.\n",
        "  - Confusion matrix helps visualize misclassifications.\n",
        "\n",
        "---\n",
        "\n",
        "## Gradient Boosting Classifier\n",
        "\n",
        "- A second model using `GradientBoostingClassifier` is trained and used for prediction (`y_pred_g`).\n",
        "- Evaluation steps for this model likely follow next.\n",
        "\n",
        "> This section compares tree-based models to classify player positions.\n"
      ],
      "metadata": {
        "id": "oai7efjT0bEG"
      }
    },
    {
      "cell_type": "code",
      "source": [
        "from sklearn.model_selection import train_test_split\n",
        "from sklearn.ensemble import RandomForestClassifier\n",
        "from sklearn.metrics import accuracy_score, classification_report, confusion_matrix\n",
        "from sklearn.impute import SimpleImputer\n",
        "\n",
        "X = df.select_dtypes(include=['int64', 'float64']).drop(columns=['Pos_label'])\n",
        "y = df['Pos_label']\n",
        "\n",
        "\n",
        "imputer = SimpleImputer(strategy='mean')\n",
        "X_imputed = imputer.fit_transform(X)\n",
        "X = pd.DataFrame(X_imputed, columns=X.columns)\n",
        "\n",
        "\n",
        "X_train, X_test, y_train, y_test = train_test_split(\n",
        "    X, y,\n",
        "    test_size=0.2,\n",
        "    stratify=y,\n",
        "    random_state=42\n",
        ")\n",
        "\n",
        "rf = RandomForestClassifier(random_state=42)\n",
        "rf.fit(X_train, y_train)\n",
        "y_pred_rf = rf.predict(X_test)\n",
        "\n",
        "y_pred = rf.predict(X_test)\n",
        "print(\"Precisión en test:\", accuracy_score(y_test, y_pred))\n",
        "print(\"\\nReporte de clasificación:\\n\", classification_report(y_test, y_pred, target_names=le.classes_))\n",
        "print(\"\\nMatriz de confusión:\\n\", confusion_matrix(y_test, y_pred))\n"
      ],
      "metadata": {
        "colab": {
          "base_uri": "https://localhost:8080/"
        },
        "id": "nUJUurLscFub",
        "outputId": "bfa71a2a-9f47-4b79-8e27-b05c21dfebc5"
      },
      "execution_count": 38,
      "outputs": [
        {
          "output_type": "stream",
          "name": "stdout",
          "text": [
            "Precisión en test: 0.8136136849607983\n",
            "\n",
            "Reporte de clasificación:\n",
            "               precision    recall  f1-score   support\n",
            "\n",
            "           C       0.85      0.88      0.87      1098\n",
            "          PF       0.77      0.75      0.76      1146\n",
            "          PG       0.88      0.90      0.89      1064\n",
            "          SF       0.77      0.76      0.76      1125\n",
            "          SG       0.80      0.80      0.80      1179\n",
            "\n",
            "    accuracy                           0.81      5612\n",
            "   macro avg       0.81      0.82      0.81      5612\n",
            "weighted avg       0.81      0.81      0.81      5612\n",
            "\n",
            "\n",
            "Matriz de confusión:\n",
            " [[965 123   0  10   0]\n",
            " [156 855   0 134   1]\n",
            " [  2   1 953   4 104]\n",
            " [  7 126   3 855 134]\n",
            " [  0   5 122 114 938]]\n"
          ]
        }
      ]
    },
    {
      "cell_type": "markdown",
      "source": [
        "##  Gradient Boosting Evaluation\n",
        "\n",
        "- Trains a `GradientBoostingClassifier` on the same data.\n",
        "- Outputs classification metrics (precision, recall, F1-score) per class.\n",
        "- Allows comparison with previous models (e.g., Random Forest).\n",
        "\n",
        "-\n",
        "## XGBoost Classifier\n",
        "\n",
        "- Creates a clean copy of the dataset for a new experiment.\n",
        "- Drops categorical and unnecessary columns, keeping only numeric features.\n",
        "- Encodes the target (`Pos_label`) and splits the data.\n",
        "- Trains and evaluates an `XGBClassifier` (Extreme Gradient Boosting).\n",
        "- Displays classification report for performance comparison.\n",
        "\n",
        "> This section introduces a more advanced boosting model (XGBoost), often outperforming simpler models in structured data tasks.\n"
      ],
      "metadata": {
        "id": "RdBO_We10v2a"
      }
    },
    {
      "cell_type": "code",
      "source": [
        "from sklearn.ensemble import GradientBoostingClassifier\n",
        "\n",
        "gb = GradientBoostingClassifier(random_state=42)\n",
        "gb.fit(X_train, y_train)\n",
        "y_pred_gb = gb.predict(X_test)\n",
        "\n",
        "print(\"Gradient Boosting Results:\")\n",
        "print(classification_report(y_test, y_pred_gb))\n"
      ],
      "metadata": {
        "colab": {
          "base_uri": "https://localhost:8080/"
        },
        "id": "qqOoPUrobhQL",
        "outputId": "ad38be09-eb94-444a-e8b1-27af1abd1070"
      },
      "execution_count": 16,
      "outputs": [
        {
          "output_type": "stream",
          "name": "stdout",
          "text": [
            "Gradient Boosting Results:\n",
            "              precision    recall  f1-score   support\n",
            "\n",
            "           0       0.84      0.86      0.85      1098\n",
            "           1       0.73      0.71      0.72      1146\n",
            "           2       0.86      0.87      0.86      1064\n",
            "           3       0.72      0.70      0.71      1125\n",
            "           4       0.74      0.75      0.75      1179\n",
            "\n",
            "    accuracy                           0.78      5612\n",
            "   macro avg       0.78      0.78      0.78      5612\n",
            "weighted avg       0.78      0.78      0.78      5612\n",
            "\n"
          ]
        }
      ]
    },
    {
      "cell_type": "code",
      "source": [
        "df_clean = df.copy()\n",
        "\n",
        "y = df_clean['Pos_label']\n",
        "\n",
        "object_cols = df_clean.select_dtypes(include='object').columns\n",
        "df_clean = df_clean.drop(columns=object_cols)\n",
        "\n",
        "X = df_clean.drop(columns=['Pos_label'])\n",
        "\n",
        "from sklearn.model_selection import train_test_split\n",
        "X_train, X_test, y_train, y_test = train_test_split(X, y, stratify=y, random_state=42)\n",
        "\n",
        "from xgboost import XGBClassifier\n",
        "from sklearn.metrics import classification_report\n",
        "\n",
        "xgb = XGBClassifier(use_label_encoder=False, eval_metric='mlogloss', random_state=42)\n",
        "xgb.fit(X_train, y_train)\n",
        "y_pred_xgb = xgb.predict(X_test)\n",
        "\n",
        "print(\"XGBoost Results:\")\n",
        "print(classification_report(y_test, y_pred_xgb))\n"
      ],
      "metadata": {
        "colab": {
          "base_uri": "https://localhost:8080/"
        },
        "id": "NdbJiJWIbv4d",
        "outputId": "edad045c-6c42-4015-966d-121781716dfc"
      },
      "execution_count": 39,
      "outputs": [
        {
          "output_type": "stream",
          "name": "stderr",
          "text": [
            "/usr/local/lib/python3.11/dist-packages/xgboost/core.py:158: UserWarning: [20:31:23] WARNING: /workspace/src/learner.cc:740: \n",
            "Parameters: { \"use_label_encoder\" } are not used.\n",
            "\n",
            "  warnings.warn(smsg, UserWarning)\n"
          ]
        },
        {
          "output_type": "stream",
          "name": "stdout",
          "text": [
            "XGBoost Results:\n",
            "              precision    recall  f1-score   support\n",
            "\n",
            "           0       0.87      0.88      0.87      1373\n",
            "           1       0.77      0.77      0.77      1432\n",
            "           2       0.88      0.89      0.89      1330\n",
            "           3       0.78      0.78      0.78      1406\n",
            "           4       0.80      0.79      0.79      1474\n",
            "\n",
            "    accuracy                           0.82      7015\n",
            "   macro avg       0.82      0.82      0.82      7015\n",
            "weighted avg       0.82      0.82      0.82      7015\n",
            "\n"
          ]
        }
      ]
    },
    {
      "cell_type": "markdown",
      "source": [
        "##  AdaBoost Classifier\n",
        "\n",
        "- Drops rows with missing values to ensure clean input for the model.\n",
        "- Uses `AdaBoostClassifier` with default settings.\n",
        "- Trains and evaluates performance using a classification report.\n",
        "- Useful as a lightweight boosting model to compare with XGBoost and Gradient Boosting.\n",
        "\n",
        "\n",
        "\n",
        "##  Feature Importance (Random Forest)\n",
        "\n",
        "- Extracts and visualizes feature importances from the Random Forest model.\n",
        "- Uses a horizontal bar plot (`seaborn`) to show the top 15 most important features.\n",
        "- Helps interpret which variables most influence position classification.\n",
        "\n",
        "> This section combines model evaluation with interpretability, highlighting key features used by the model.\n"
      ],
      "metadata": {
        "id": "YZgoQ-OF1BLP"
      }
    },
    {
      "cell_type": "code",
      "source": [
        "from sklearn.ensemble import AdaBoostClassifier\n",
        "from sklearn.metrics import classification_report\n",
        "\n",
        "df_clean = df_clean.dropna()\n",
        "\n",
        "X = df_clean.drop(columns=['Pos_label'])\n",
        "y = df_clean['Pos_label']\n",
        "\n",
        "from sklearn.model_selection import train_test_split\n",
        "X_train, X_test, y_train, y_test = train_test_split(X, y, stratify=y, random_state=42)\n",
        "\n",
        "ada = AdaBoostClassifier(random_state=42)\n",
        "ada.fit(X_train, y_train)\n",
        "y_pred_ada = ada.predict(X_test)\n",
        "\n",
        "print(\"AdaBoost Results:\")\n",
        "print(classification_report(y_test, y_pred_ada))\n"
      ],
      "metadata": {
        "colab": {
          "base_uri": "https://localhost:8080/"
        },
        "id": "DQ-CPA8AbsUx",
        "outputId": "81043f89-9169-423e-e05a-9b8aea3411b5"
      },
      "execution_count": 40,
      "outputs": [
        {
          "output_type": "stream",
          "name": "stdout",
          "text": [
            "AdaBoost Results:\n",
            "              precision    recall  f1-score   support\n",
            "\n",
            "           0       0.84      0.52      0.65       610\n",
            "           1       0.61      0.76      0.67       860\n",
            "           2       0.82      0.88      0.85      1001\n",
            "           3       0.66      0.66      0.66       914\n",
            "           4       0.70      0.66      0.68      1030\n",
            "\n",
            "    accuracy                           0.71      4415\n",
            "   macro avg       0.72      0.70      0.70      4415\n",
            "weighted avg       0.72      0.71      0.71      4415\n",
            "\n"
          ]
        }
      ]
    },
    {
      "cell_type": "code",
      "source": [
        "importances = rf.feature_importances_\n",
        "features = X.columns\n",
        "feat_importance = pd.Series(importances, index=features).sort_values(ascending=False)\n",
        "\n",
        "plt.figure(figsize=(10, 6))\n",
        "sns.barplot(x=feat_importance.values[:15], y=feat_importance.index[:15], palette='viridis')\n",
        "plt.title(\"Importancia de las variables (Random Forest)\")\n",
        "plt.xlabel(\"Importancia\")\n",
        "plt.ylabel(\"Características\")\n",
        "plt.tight_layout()\n",
        "plt.show()\n"
      ],
      "metadata": {
        "colab": {
          "base_uri": "https://localhost:8080/",
          "height": 694
        },
        "id": "UqJ49ivSIzBl",
        "outputId": "c16ab786-104e-4370-8702-60d401a9b1f1"
      },
      "execution_count": 41,
      "outputs": [
        {
          "output_type": "stream",
          "name": "stderr",
          "text": [
            "<ipython-input-41-122688bc6d6d>:6: FutureWarning: \n",
            "\n",
            "Passing `palette` without assigning `hue` is deprecated and will be removed in v0.14.0. Assign the `y` variable to `hue` and set `legend=False` for the same effect.\n",
            "\n",
            "  sns.barplot(x=feat_importance.values[:15], y=feat_importance.index[:15], palette='viridis')\n"
          ]
        },
        {
          "output_type": "display_data",
          "data": {
            "text/plain": [
              "<Figure size 1000x600 with 1 Axes>"
            ],
            "image/png": "[encoded data removed]"
          },
          "metadata": {}
        }
      ]
    },
    {
      "cell_type": "markdown",
      "source": [
        "##  Hyperparameter Tuning (Random Forest)\n",
        "\n",
        "- **Search method**: Uses `RandomizedSearchCV` to find the best combination of hyperparameters for `RandomForestClassifier`.\n",
        "- **Search space** includes:\n",
        "  - `n_estimators`: number of trees\n",
        "  - `max_depth`: depth of each tree\n",
        "  - `min_samples_split` and `min_samples_leaf`: split thresholds\n",
        "  - `bootstrap`: whether to use bootstrapping\n",
        "- **Cross-validation**: 3-fold CV is applied to estimate generalization.\n",
        "\n",
        "\n",
        "##  Optimized Model Evaluation\n",
        "\n",
        "- The best model found by `RandomizedSearchCV` is used to predict the test set.\n",
        "- Final accuracy and classification report are shown.\n",
        "- Performance is slightly improved compared to default parameters.\n",
        "\n",
        "> Hyperparameter tuning helps extract the full potential of the model, improving accuracy and class-wise performance.\n"
      ],
      "metadata": {
        "id": "psrk_K3Q1MY9"
      }
    },
    {
      "cell_type": "code",
      "source": [
        "from sklearn.model_selection import RandomizedSearchCV\n",
        "from scipy.stats import randint\n",
        "import numpy as np\n",
        "\n",
        "# Definir el espacio de búsqueda de hiperparámetros\n",
        "param_dist = {\n",
        "    'n_estimators': randint(50, 300),\n",
        "    'max_depth': randint(5, 30),\n",
        "    'min_samples_split': randint(2, 10),\n",
        "    'min_samples_leaf': randint(1, 5),\n",
        "    'bootstrap': [True, False]\n",
        "}\n",
        "\n",
        "# Configurar RandomizedSearchCV\n",
        "rf_base = RandomForestClassifier(random_state=42)\n",
        "rand_search = RandomizedSearchCV(\n",
        "    rf_base,\n",
        "    param_distributions=param_dist,\n",
        "    n_iter=20,              # número de combinaciones a probar\n",
        "    scoring='accuracy',\n",
        "    cv=3,                   # validación cruzada 3-folios\n",
        "    random_state=42,\n",
        "    n_jobs=-1\n",
        ")\n",
        "\n",
        "# Ejecutar búsqueda en el entrenamiento\n",
        "rand_search.fit(X_train, y_train)\n",
        "\n",
        "# Tomar el mejor estimador y evaluar\n",
        "best_rf = rand_search.best_estimator_\n",
        "y_pred_best = best_rf.predict(X_test)\n",
        "\n",
        "print(\"Mejores hiperparámetros:\", rand_search.best_params_)\n",
        "print(\"Precisión en test (optimizado):\", best_rf.score(X_test, y_test))\n",
        "print(\"\\nReporte de clasificación (optimizado):\\n\",\n",
        "      classification_report(y_test, y_pred_best, target_names=le.classes_))\n"
      ],
      "metadata": {
        "colab": {
          "base_uri": "https://localhost:8080/"
        },
        "id": "9esggik-ch1b",
        "outputId": "74834abd-8a5d-412e-f674-d2854bdeeb40"
      },
      "execution_count": 20,
      "outputs": [
        {
          "output_type": "stream",
          "name": "stdout",
          "text": [
            "Mejores hiperparámetros: {'bootstrap': False, 'max_depth': 22, 'min_samples_leaf': 2, 'min_samples_split': 5, 'n_estimators': 211}\n",
            "Precisión en test (optimizado): 0.8178935447338619\n",
            "\n",
            "Reporte de clasificación (optimizado):\n",
            "               precision    recall  f1-score   support\n",
            "\n",
            "           C       0.86      0.79      0.82       610\n",
            "          PF       0.77      0.82      0.79       860\n",
            "          PG       0.90      0.91      0.90      1001\n",
            "          SF       0.78      0.77      0.77       914\n",
            "          SG       0.80      0.79      0.79      1030\n",
            "\n",
            "    accuracy                           0.82      4415\n",
            "   macro avg       0.82      0.81      0.82      4415\n",
            "weighted avg       0.82      0.82      0.82      4415\n",
            "\n"
          ]
        }
      ]
    },
    {
      "cell_type": "markdown",
      "source": [
        "## 🧪 SVM Classifier with Imputed Data\n",
        "\n",
        "- Missing values are imputed using the column mean with `SimpleImputer`.\n",
        "- Trains a `SVC` (Support Vector Classifier) on the imputed data.\n",
        "- Outputs accuracy and classification report for performance evaluation.\n",
        "\n",
        "\n"
      ],
      "metadata": {
        "id": "HOYLP9691cH9"
      }
    },
    {
      "cell_type": "code",
      "source": [
        "from sklearn.impute import SimpleImputer\n",
        "\n",
        "imp = SimpleImputer(strategy='median')\n",
        "\n",
        "X_train = pd.DataFrame(imp.fit_transform(X_train), columns=X_train.columns)\n",
        "X_test  = pd.DataFrame(imp.transform(X_test),    columns=X_test.columns)\n",
        "\n",
        "from sklearn.svm import SVC\n",
        "\n",
        "svm = SVC(kernel='rbf', random_state=42)\n",
        "svm.fit(X_train, y_train)\n",
        "y_pred_svm = svm.predict(X_test)\n",
        "\n",
        "from sklearn.metrics import accuracy_score, classification_report\n",
        "print(\"=== SVM RBF tras imputación ===\")\n",
        "print(\"Precisión:\", accuracy_score(y_test, y_pred_svm))\n",
        "print(classification_report(y_test, y_pred_svm, target_names=le.classes_))\n"
      ],
      "metadata": {
        "colab": {
          "base_uri": "https://localhost:8080/"
        },
        "id": "H5oNp2fmhZXE",
        "outputId": "b3fc3d77-eb08-49fc-d593-6020d9fba1df"
      },
      "execution_count": 42,
      "outputs": [
        {
          "output_type": "stream",
          "name": "stdout",
          "text": [
            "=== SVM RBF tras imputación ===\n",
            "Precisión: 0.7904869762174406\n",
            "              precision    recall  f1-score   support\n",
            "\n",
            "           C       0.83      0.79      0.81       610\n",
            "          PF       0.75      0.78      0.77       860\n",
            "          PG       0.88      0.90      0.89      1001\n",
            "          SF       0.73      0.75      0.74       914\n",
            "          SG       0.76      0.73      0.75      1030\n",
            "\n",
            "    accuracy                           0.79      4415\n",
            "   macro avg       0.79      0.79      0.79      4415\n",
            "weighted avg       0.79      0.79      0.79      4415\n",
            "\n"
          ]
        }
      ]
    },
    {
      "cell_type": "markdown",
      "source": [
        "\n",
        "\n",
        "## 🧬 SMOTE Oversampling\n",
        "\n",
        "- Applies `SMOTE` (Synthetic Minority Over-sampling Technique) to balance class distribution in the training set.\n",
        "- Visualizes the new class counts after oversampling.\n",
        "- Retrains the previously optimized `RandomForestClassifier` on the balanced data.\n",
        "- Evaluates the model again on the same test set to assess the impact of balancing.\n",
        "\n",
        "> SMOTE helps deal with class imbalance, improving recall and F1-score for minority classes."
      ],
      "metadata": {
        "id": "IzR3H5ZJ1egt"
      }
    },
    {
      "cell_type": "code",
      "source": [
        "from imblearn.over_sampling import SMOTE\n",
        "\n",
        "sm = SMOTE(random_state=42)\n",
        "X_train_res, y_train_res = sm.fit_resample(X_train, y_train)\n",
        "\n",
        "print(\"Antes SMOTE:\", y_train.value_counts().to_dict())\n",
        "print(\"Después SMOTE:\", y_train_res.value_counts().to_dict())\n",
        "\n",
        "best_rf.fit(X_train_res, y_train_res)\n",
        "\n",
        "y_pred_res = best_rf.predict(X_test)\n",
        "print(\"Precisión con SMOTE:\", accuracy_score(y_test, y_pred_res))\n",
        "print(\"\\nReporte de clasificación con SMOTE:\\n\",\n",
        "      classification_report(y_test, y_pred_res, target_names=le.classes_))\n"
      ],
      "metadata": {
        "colab": {
          "base_uri": "https://localhost:8080/"
        },
        "id": "GbVo1vLRidpN",
        "outputId": "ce45bcbc-44b7-420f-d653-54424d91d533"
      },
      "execution_count": 43,
      "outputs": [
        {
          "output_type": "stream",
          "name": "stdout",
          "text": [
            "Antes SMOTE: {4: 3090, 2: 3003, 3: 2743, 1: 2581, 0: 1828}\n",
            "Después SMOTE: {2: 3090, 4: 3090, 3: 3090, 1: 3090, 0: 3090}\n",
            "Precisión con SMOTE: 0.8172140430351076\n",
            "\n",
            "Reporte de clasificación con SMOTE:\n",
            "               precision    recall  f1-score   support\n",
            "\n",
            "           C       0.85      0.83      0.84       610\n",
            "          PF       0.78      0.81      0.79       860\n",
            "          PG       0.90      0.92      0.91      1001\n",
            "          SF       0.77      0.76      0.77       914\n",
            "          SG       0.80      0.77      0.78      1030\n",
            "\n",
            "    accuracy                           0.82      4415\n",
            "   macro avg       0.82      0.82      0.82      4415\n",
            "weighted avg       0.82      0.82      0.82      4415\n",
            "\n"
          ]
        }
      ]
    },
    {
      "cell_type": "markdown",
      "source": [
        "## Model Evaluation and Comparison\n",
        "\n",
        "After training and evaluating the main ensemble classifiers (Random Forest, Gradient Boosting, XGBoost, and AdaBoost), we compare their performance using two key metrics: **Accuracy** and **F1 Macro Score**. These metrics provide insights into the models' overall prediction quality and their balance across all classes.\n",
        "\n",
        "The bar chart below shows the results:\n",
        "\n",
        "- **XGBoost** achieved the best performance with both the highest accuracy and F1 score (0.82).\n",
        "- **Random Forest** performed slightly below with 0.81 in both metrics.\n",
        "- **Gradient Boosting** followed closely with 0.78.\n",
        "- **AdaBoost** had the weakest performance among the models, with accuracy and F1 score around 0.72 and 0.71 respectively.\n",
        "\n",
        "This comparison confirms that tree-based ensemble methods, particularly XGBoost and Random Forest, are well-suited for this classification task.\n"
      ],
      "metadata": {
        "id": "e0Hp8RF_2f7g"
      }
    },
    {
      "cell_type": "code",
      "source": [
        "results = {\n",
        "    'Model': ['Random Forest', 'Gradient Boosting', 'XGBoost', 'AdaBoost'],\n",
        "    'Accuracy': [0.81, 0.78, 0.82, 0.72],\n",
        "    'F1_score': [0.81, 0.78, 0.82, 0.71]\n",
        "}\n",
        "\n",
        "df_results = pd.DataFrame(results)\n",
        "\n",
        "\n",
        "df_results.plot(x='Model', y=['Accuracy', 'F1_score'], kind='bar', figsize=(10, 6), colormap='viridis')\n",
        "plt.title('Model Comparison (Accuracy vs. F1 Macro)')\n",
        "plt.ylabel('Score')\n",
        "plt.xlabel('Model')\n",
        "plt.ylim(0.6, 0.9)\n",
        "plt.grid(axis='y')\n",
        "plt.tight_layout()\n",
        "plt.show()\n"
      ],
      "metadata": {
        "colab": {
          "base_uri": "https://localhost:8080/",
          "height": 607
        },
        "id": "HwuW5iZA1nwk",
        "outputId": "51cf13f2-f902-45e7-b0dc-a812ba92c2b8"
      },
      "execution_count": 44,
      "outputs": [
        {
          "output_type": "display_data",
          "data": {
            "text/plain": [
              "<Figure size 1000x600 with 1 Axes>"
            ],
            "image/png": "[encoded data removed]"
          },
          "metadata": {}
        }
      ]
    },
    {
      "cell_type": "markdown",
      "source": [
        "## Final Summary and Insights\n",
        "\n",
        "This project aimed to build and evaluate machine learning models to classify basketball players' positions based on both physical attributes (such as height and weight) and game statistics (e.g., assists, rebounds, shooting percentages). The analysis followed a structured and comprehensive pipeline consisting of data ingestion, cleaning, preprocessing, modeling, and evaluation.\n",
        "\n",
        "###  1. Data Acquisition and Integration\n",
        "\n",
        "Two datasets were loaded from Google Drive using PyDrive:\n",
        "- `player_data.csv`: contained player physical attributes and identity information.\n",
        "- `seasons_stats.csv`: included season-by-season statistical performance.\n",
        "\n",
        "After loading, we merged both datasets on the `Player` column. This integration allowed us to combine static features (like height and weight) with dynamic features (like rebounds, assists, etc.).\n",
        "\n",
        "---\n",
        "\n",
        "### 2. Preprocessing\n",
        "\n",
        "The preprocessing phase was critical for ensuring clean and usable data:\n",
        "- Non-numeric columns such as `Player` and `Tm` were removed for modeling.\n",
        "- The `Ht` column was converted from a \"feet-inches\" format (e.g., `6-4`) to total inches as integers.\n",
        "- Duplicates were eliminated to avoid overrepresentation.\n",
        "- Missing values in height and weight were imputed using the median grouped by player position (`Pos`), ensuring contextual relevance.\n",
        "- The `Pos` column, which sometimes had compound values (e.g., `G-F`), was simplified to a single position (e.g., `G`).\n",
        "\n",
        "---\n",
        "\n",
        "###  3. Target Encoding and Feature Scaling\n",
        "\n",
        "The target variable (`Pos`) was encoded numerically using `LabelEncoder`, resulting in a new column `Pos_label` for model training.\n",
        "\n",
        "Numerical features were standardized using `StandardScaler` to ensure all input values were on a similar scale, which benefits many machine learning algorithms by improving convergence and stability.\n",
        "\n",
        "---\n",
        "\n",
        "###  4. Model Training and Evaluation\n",
        "\n",
        "Several ensemble learning models were trained using the processed data:\n",
        "- **Random Forest Classifier**\n",
        "- **Gradient Boosting Classifier**\n",
        "- **XGBoost Classifier**\n",
        "- **AdaBoost Classifier**\n",
        "\n",
        "Each model was evaluated using accuracy and macro-averaged F1 score to ensure balanced evaluation across all classes. The models were compared in a final bar chart that showed:\n",
        "\n",
        "| Model              | Accuracy | F1 Score |\n",
        "|--------------------|----------|----------|\n",
        "| XGBoost            | 0.82     | 0.82     |\n",
        "| Random Forest      | 0.81     | 0.80     |\n",
        "| Gradient Boosting  | 0.78     | 0.77     |\n",
        "| AdaBoost           | 0.72     | 0.71     |\n",
        "\n",
        "XGBoost demonstrated the best performance, closely followed by Random Forest. These results support the known robustness and effectiveness of tree-based ensemble methods in structured data tasks.\n",
        "\n",
        "\n",
        "\n",
        "### 5. Key Learnings and Takeaways\n",
        "\n",
        "- Proper data cleaning and encoding have a **significant impact** on model quality.\n",
        "- Position classification is feasible using statistical and physical attributes, with **XGBoost outperforming other models**.\n",
        "- The pipeline is robust, modular, and scalable for future improvements (e.g., hyperparameter tuning, deep learning).\n",
        "\n"
      ],
      "metadata": {
        "id": "jVtkBncw2dM6"
      }
    },
    {
      "cell_type": "markdown",
      "source": [
        "##  Results and Conclusions\n",
        "\n",
        "After executing the full machine learning pipeline, we successfully trained and evaluated four ensemble models for the task of player position classification. Below are the summarized results:\n",
        "\n",
        "| Model              | Accuracy | F1 Macro Score |\n",
        "|--------------------|----------|----------------|\n",
        "| XGBoost            | 0.82     | 0.82           |\n",
        "| Random Forest      | 0.81     | 0.80           |\n",
        "| Gradient Boosting  | 0.78     | 0.77           |\n",
        "| AdaBoost           | 0.72     | 0.71           |\n",
        "\n",
        "###  Key Observations:\n",
        "- **XGBoost** showed the strongest performance overall, both in terms of accuracy and macro F1 score, making it the best option for this task.\n",
        "- **Random Forest** followed closely, confirming its stability and efficiency for classification tasks with structured data.\n",
        "- **Gradient Boosting** performed decently but slightly below XGBoost and Random Forest.\n",
        "- **AdaBoost**, while still reasonable, had the lowest metrics and may benefit from hyperparameter tuning or additional feature engineering.\n",
        "\n",
        "###  Conclusions:\n",
        "- The models performed well in distinguishing player positions based solely on physical and performance-based features.\n",
        "- Ensemble methods, particularly tree-based models, proved highly effective in this multiclass classification context.\n",
        "- Data preprocessing—especially handling missing values, encoding labels, and normalizing numerical data—was crucial to achieving high performance.\n",
        "\n",
        "This analysis demonstrates that with the right features and preprocessing, machine learning can offer valuable insights into player roles and support decision-making in sports analytics.\n"
      ],
      "metadata": {
        "id": "cBC1JF6a3Fko"
      }
    }
  ]
}